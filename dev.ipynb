{
 "cells": [
  {
   "cell_type": "code",
   "execution_count": null,
   "id": "7b036a5e",
   "metadata": {},
   "outputs": [],
   "source": [
    "from selenium import webdriver\n",
    "from selenium.webdriver.chrome.service import Service\n",
    "from selenium.webdriver.chrome.options import Options\n",
    "from selenium.webdriver.common.by import By\n",
    "from selenium.webdriver.support.ui import WebDriverWait\n",
    "from selenium.webdriver.support import expected_conditions as EC\n",
    "import re\n",
    "import pandas as pd\n",
    "from tqdm import tqdm\n",
    "import pickle"
   ]
  },
  {
   "cell_type": "code",
   "execution_count": 2,
   "id": "fc0b6616",
   "metadata": {},
   "outputs": [],
   "source": [
    "# 65637item 456ページ\n",
    "# 3時間弱でスクレイピング可能見込み\n",
    "urls = [f\"https://www.partzilla.com/search?ui=typeahead&filters=%5B%7B%22name%22%3A%22manufacturer%22%2C%22values%22%3A%5B%22SUZUKI%22%5D%7D%2C%7B%22name%22%3A%22sort%22%2C%22values%22%3A%5B%22score+desc%22%5D%7D%5D&pg={i}&pageSize=144\" for i in range(1, 457)]"
   ]
  },
  {
   "cell_type": "code",
   "execution_count": 3,
   "id": "6d1ec462",
   "metadata": {},
   "outputs": [
    {
     "name": "stderr",
     "output_type": "stream",
     "text": [
      "  0%|          | 0/456 [00:00<?, ?it/s]"
     ]
    },
    {
     "name": "stderr",
     "output_type": "stream",
     "text": [
      " 59%|█████▉    | 270/456 [1:05:25<45:03, 14.54s/it]\n"
     ]
    },
    {
     "ename": "TimeoutException",
     "evalue": "Message: \nStacktrace:\n#0 0xb8b5fe8d5cc4 <unknown>\n#1 0xb8b5fe3e58cc <unknown>\n#2 0xb8b5fe42ca78 <unknown>\n#3 0xb8b5fe46e4dc <unknown>\n#4 0xb8b5fe420a68 <unknown>\n#5 0xb8b5fe89e570 <unknown>\n#6 0xb8b5fe8a1a84 <unknown>\n#7 0xb8b5fe8886d4 <unknown>\n#8 0xb8b5fe8a20b4 <unknown>\n#9 0xb8b5fe8712c0 <unknown>\n#10 0xb8b5fe8c3a40 <unknown>\n#11 0xb8b5fe8c3c14 <unknown>\n#12 0xb8b5fe8d4934 <unknown>\n#13 0xfc398135d5b4 <unknown>\n#14 0xfc39813c5ed8 <unknown>\n",
     "output_type": "error",
     "traceback": [
      "\u001b[31m---------------------------------------------------------------------------\u001b[39m",
      "\u001b[31mTimeoutException\u001b[39m                          Traceback (most recent call last)",
      "\u001b[36mCell\u001b[39m\u001b[36m \u001b[39m\u001b[32mIn[3]\u001b[39m\u001b[32m, line 14\u001b[39m\n\u001b[32m     12\u001b[39m \u001b[38;5;66;03m# ページの読み込み完了を待機\u001b[39;00m\n\u001b[32m     13\u001b[39m wait = WebDriverWait(driver, \u001b[32m10\u001b[39m)\n\u001b[32m---> \u001b[39m\u001b[32m14\u001b[39m \u001b[43mwait\u001b[49m\u001b[43m.\u001b[49m\u001b[43muntil\u001b[49m\u001b[43m(\u001b[49m\u001b[43mEC\u001b[49m\u001b[43m.\u001b[49m\u001b[43mpresence_of_element_located\u001b[49m\u001b[43m(\u001b[49m\u001b[43m(\u001b[49m\u001b[43mBy\u001b[49m\u001b[43m.\u001b[49m\u001b[43mCLASS_NAME\u001b[49m\u001b[43m,\u001b[49m\u001b[43m \u001b[49m\u001b[33;43m\"\u001b[39;49m\u001b[33;43mproduct-card\u001b[39;49m\u001b[33;43m\"\u001b[39;49m\u001b[43m)\u001b[49m\u001b[43m)\u001b[49m\u001b[43m)\u001b[49m    \n\u001b[32m     15\u001b[39m cards = driver.find_elements(By.CLASS_NAME, \u001b[33m\"\u001b[39m\u001b[33mproduct-card\u001b[39m\u001b[33m\"\u001b[39m)\n\u001b[32m     16\u001b[39m items = []\n",
      "\u001b[36mFile \u001b[39m\u001b[32m~/work/suzuki/.venv/lib/python3.12/site-packages/selenium/webdriver/support/wait.py:138\u001b[39m, in \u001b[36mWebDriverWait.until\u001b[39m\u001b[34m(self, method, message)\u001b[39m\n\u001b[32m    136\u001b[39m         \u001b[38;5;28;01mbreak\u001b[39;00m\n\u001b[32m    137\u001b[39m     time.sleep(\u001b[38;5;28mself\u001b[39m._poll)\n\u001b[32m--> \u001b[39m\u001b[32m138\u001b[39m \u001b[38;5;28;01mraise\u001b[39;00m TimeoutException(message, screen, stacktrace)\n",
      "\u001b[31mTimeoutException\u001b[39m: Message: \nStacktrace:\n#0 0xb8b5fe8d5cc4 <unknown>\n#1 0xb8b5fe3e58cc <unknown>\n#2 0xb8b5fe42ca78 <unknown>\n#3 0xb8b5fe46e4dc <unknown>\n#4 0xb8b5fe420a68 <unknown>\n#5 0xb8b5fe89e570 <unknown>\n#6 0xb8b5fe8a1a84 <unknown>\n#7 0xb8b5fe8886d4 <unknown>\n#8 0xb8b5fe8a20b4 <unknown>\n#9 0xb8b5fe8712c0 <unknown>\n#10 0xb8b5fe8c3a40 <unknown>\n#11 0xb8b5fe8c3c14 <unknown>\n#12 0xb8b5fe8d4934 <unknown>\n#13 0xfc398135d5b4 <unknown>\n#14 0xfc39813c5ed8 <unknown>\n"
     ]
    }
   ],
   "source": [
    "all_items = []\n",
    "for url in tqdm(urls):\n",
    "    options = Options ()\n",
    "    options.binary_location = \"/usr/bin/chromium-browser\" # Chromium のパス\n",
    "    # ヘッドレスモードでは動かなかったのでコメントアウト\n",
    "    # options.add_argument (\"--headless\")\n",
    "    options.add_argument (\"--no-sandbox\")\n",
    "    options.add_argument (\"--disable-dev-shm-usage\")\n",
    "    service = Service (\"/usr/bin/chromedriver\") # chromedriverのパス\n",
    "    driver = webdriver.Chrome(service=service, options=options)\n",
    "    driver.get(url)\n",
    "    # ページの読み込み完了を待機\n",
    "    wait = WebDriverWait(driver, 10)\n",
    "    wait.until(EC.presence_of_element_located((By.CLASS_NAME, \"product-card\")))    \n",
    "    cards = driver.find_elements(By.CLASS_NAME, \"product-card\")\n",
    "    items = []\n",
    "    for card in cards:\n",
    "        item = {}\n",
    "        name = card.find_element(By.CLASS_NAME, \"product-name\").text\n",
    "        type_number =card.find_element(By.CSS_SELECTOR, '[style=\"line-height: 1;\"]').text.replace(\"\\n\", \" \")\n",
    "        price = float(card.find_element(By.CLASS_NAME, \"sell-price\").text.replace(\"$\", \"\").replace(\",\", \"\"))\n",
    "        item[\"name\"] = name\n",
    "        item[\"type_number\"] = type_number\n",
    "        item[\"price\"] = price\n",
    "        items.append(item) \n",
    "    all_items.extend(items)\n",
    "    # url毎にブラウザを閉じているのはロボット対策に対する回避策\n",
    "    driver.quit()"
   ]
  },
  {
   "cell_type": "code",
   "execution_count": 6,
   "id": "9d5b7468",
   "metadata": {},
   "outputs": [
    {
     "data": {
      "text/plain": [
       "432"
      ]
     },
     "execution_count": 6,
     "metadata": {},
     "output_type": "execute_result"
    }
   ],
   "source": [
    "len(all_items)"
   ]
  },
  {
   "cell_type": "code",
   "execution_count": null,
   "id": "04f8a3a2",
   "metadata": {},
   "outputs": [],
   "source": [
    "result_df = pd.DataFrame(all_items)\n",
    "result_df"
   ]
  },
  {
   "cell_type": "code",
   "execution_count": null,
   "id": "4abbe070",
   "metadata": {},
   "outputs": [],
   "source": [
    "result_df.to_csv(\"suzuki_parts.csv\", index=False)"
   ]
  }
 ],
 "metadata": {
  "kernelspec": {
   "display_name": ".venv",
   "language": "python",
   "name": "python3"
  },
  "language_info": {
   "codemirror_mode": {
    "name": "ipython",
    "version": 3
   },
   "file_extension": ".py",
   "mimetype": "text/x-python",
   "name": "python",
   "nbconvert_exporter": "python",
   "pygments_lexer": "ipython3",
   "version": "3.12.3"
  }
 },
 "nbformat": 4,
 "nbformat_minor": 5
}
