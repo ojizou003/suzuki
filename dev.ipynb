{
 "cells": [
  {
   "cell_type": "code",
   "execution_count": null,
   "id": "7b036a5e",
   "metadata": {},
   "outputs": [],
   "source": [
    "from selenium import webdriver\n",
    "from selenium. webdriver. chrome. service import Service\n",
    "from selenium. webdriver. chrome. options import Options\n",
    "from selenium.webdriver.common.by import By\n",
    "from selenium.webdriver.support.ui import WebDriverWait\n",
    "from selenium.webdriver.support import expected_conditions as EC\n",
    "import re\n",
    "import pandas as pd\n",
    "from tqdm import tqdm\n",
    "import pickle"
   ]
  },
  {
   "cell_type": "code",
   "execution_count": null,
   "id": "fc0b6616",
   "metadata": {},
   "outputs": [],
   "source": [
    "# 65637item 456ページ\n",
    "# 3時間弱でスクレイピング可能見込み\n",
    "urls = [f\"https://www.partzilla.com/search?ui=typeahead&filters=%5B%7B%22name%22%3A%22manufacturer%22%2C%22values%22%3A%5B%22SUZUKI%22%5D%7D%2C%7B%22name%22%3A%22sort%22%2C%22values%22%3A%5B%22score+desc%22%5D%7D%5D&pg={i}&pageSize=144\" for i in range(1, 457)]"
   ]
  },
  {
   "cell_type": "code",
   "execution_count": null,
   "id": "6d1ec462",
   "metadata": {},
   "outputs": [
    {
     "name": "stderr",
     "output_type": "stream",
     "text": [
      "100%|██████████| 3/3 [00:45<00:00, 15.09s/it]\n"
     ]
    }
   ],
   "source": [
    "all_items = []\n",
    "for url in tqdm(urls):\n",
    "    options = Options ()\n",
    "    options.binary_location = \"/usr/bin/chromium-browser\" # Chromium のパス\n",
    "    # options.add_argument (\"--headless\")\n",
    "    options.add_argument (\"--no-sandbox\")\n",
    "    options.add_argument (\"--disable-dev-shm-usage\")\n",
    "    service = Service (\"/usr/bin/chromedriver\") # chromedriverのパス\n",
    "    driver = webdriver.Chrome(service=service, options=options)\n",
    "    driver.get(url)\n",
    "    # ページの読み込み完了を待機\n",
    "    wait = WebDriverWait(driver, 10)\n",
    "    wait.until(EC.presence_of_element_located((By.CLASS_NAME, \"product-card\")))    \n",
    "    cards = driver.find_elements(By.CLASS_NAME, \"product-card\")\n",
    "    items = []\n",
    "    for card in cards:\n",
    "        item = {}\n",
    "        name = card.find_element(By.CLASS_NAME, \"product-name\").text\n",
    "        type_number =card.find_element(By.CSS_SELECTOR, '[style=\"line-height: 1;\"]').text.replace(\"\\n\", \" \")\n",
    "        price = float(card.find_element(By.CLASS_NAME, \"sell-price\").text.replace(\"$\", \"\").replace(\",\", \"\"))\n",
    "        item[\"name\"] = name\n",
    "        item[\"type_number\"] = type_number\n",
    "        item[\"price\"] = price\n",
    "        items.append(item) \n",
    "    all_items.extend(items)\n",
    "    driver.quit()"
   ]
  },
  {
   "cell_type": "code",
   "execution_count": 6,
   "id": "9d5b7468",
   "metadata": {},
   "outputs": [
    {
     "data": {
      "text/plain": [
       "432"
      ]
     },
     "execution_count": 6,
     "metadata": {},
     "output_type": "execute_result"
    }
   ],
   "source": [
    "len(all_items)"
   ]
  },
  {
   "cell_type": "code",
   "execution_count": null,
   "id": "04f8a3a2",
   "metadata": {},
   "outputs": [],
   "source": [
    "result_df = pd.DataFrame(all_items)\n",
    "result_df"
   ]
  },
  {
   "cell_type": "code",
   "execution_count": null,
   "id": "4abbe070",
   "metadata": {},
   "outputs": [],
   "source": [
    "result_df.to_csv(\"suzuki_parts.csv\", index=False)"
   ]
  }
 ],
 "metadata": {
  "kernelspec": {
   "display_name": ".venv",
   "language": "python",
   "name": "python3"
  },
  "language_info": {
   "codemirror_mode": {
    "name": "ipython",
    "version": 3
   },
   "file_extension": ".py",
   "mimetype": "text/x-python",
   "name": "python",
   "nbconvert_exporter": "python",
   "pygments_lexer": "ipython3",
   "version": "3.12.3"
  }
 },
 "nbformat": 4,
 "nbformat_minor": 5
}
