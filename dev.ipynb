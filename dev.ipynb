{
 "cells": [
  {
   "cell_type": "markdown",
   "id": "7d85d20d",
   "metadata": {},
   "source": [
    "Imports"
   ]
  },
  {
   "cell_type": "code",
   "execution_count": 1,
   "id": "7b036a5e",
   "metadata": {},
   "outputs": [],
   "source": [
    "from selenium import webdriver\n",
    "from selenium. webdriver. chrome. service import Service\n",
    "from selenium. webdriver. chrome. options import Options\n",
    "from selenium.webdriver.common.by import By\n",
    "import re\n",
    "import pandas as pd\n",
    "from tqdm import tqdm\n",
    "import pickle"
   ]
  },
  {
   "cell_type": "code",
   "execution_count": 2,
   "id": "6d1ec462",
   "metadata": {},
   "outputs": [],
   "source": [
    "url = \"https://www.partzilla.com/catalog/suzuki\"\n",
    "\n",
    "options = Options ()\n",
    "options. binary_location = \"/usr/bin/chromium-browser\" # Chromium のパス\n",
    "# options. add_argument (\"--headless\")\n",
    "options. add_argument (\"--no-sandbox\")\n",
    "options. add_argument (\"--disable-dev-shm-usage\")\n",
    "service = Service (\"/usr/bin/chromedriver\") # chromedriverのパス\n",
    "\n",
    "driver = webdriver.Chrome(service=service, options=options)\n",
    "driver.get(url)"
   ]
  },
  {
   "cell_type": "code",
   "execution_count": 3,
   "id": "2c325bac",
   "metadata": {},
   "outputs": [],
   "source": [
    "\n",
    "driver. quit ()\n"
   ]
  },
  {
   "cell_type": "code",
   "execution_count": null,
   "id": "4abbe070",
   "metadata": {},
   "outputs": [],
   "source": []
  }
 ],
 "metadata": {
  "kernelspec": {
   "display_name": ".venv",
   "language": "python",
   "name": "python3"
  },
  "language_info": {
   "codemirror_mode": {
    "name": "ipython",
    "version": 3
   },
   "file_extension": ".py",
   "mimetype": "text/x-python",
   "name": "python",
   "nbconvert_exporter": "python",
   "pygments_lexer": "ipython3",
   "version": "3.12.3"
  }
 },
 "nbformat": 4,
 "nbformat_minor": 5
}
